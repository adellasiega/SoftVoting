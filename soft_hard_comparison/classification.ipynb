{
 "cells": [
  {
   "cell_type": "markdown",
   "metadata": {},
   "source": [
    "# Heart Disease - Soft Voting Classifications"
   ]
  },
  {
   "cell_type": "code",
   "execution_count": 17,
   "metadata": {},
   "outputs": [],
   "source": [
    "import numpy as np\n",
    "import pandas as pd\n",
    "from sklearn.model_selection import train_test_split\n",
    "from sklearn.preprocessing import MinMaxScaler\n",
    "from sklearn.linear_model import LogisticRegression\n",
    "from sklearn.utils import resample\n",
    "from sklearn.metrics import precision_score, recall_score, f1_score\n"
   ]
  },
  {
   "cell_type": "code",
   "execution_count": 18,
   "metadata": {},
   "outputs": [
    {
     "name": "stdout",
     "output_type": "stream",
     "text": [
      "Shape of the data is  (303, 14)\n"
     ]
    }
   ],
   "source": [
    "data = pd.read_csv('heart.csv')\n",
    "print('Shape of the data is ', data.shape)"
   ]
  },
  {
   "cell_type": "code",
   "execution_count": 19,
   "metadata": {},
   "outputs": [
    {
     "data": {
      "text/html": [
       "<div>\n",
       "<style scoped>\n",
       "    .dataframe tbody tr th:only-of-type {\n",
       "        vertical-align: middle;\n",
       "    }\n",
       "\n",
       "    .dataframe tbody tr th {\n",
       "        vertical-align: top;\n",
       "    }\n",
       "\n",
       "    .dataframe thead th {\n",
       "        text-align: right;\n",
       "    }\n",
       "</style>\n",
       "<table border=\"1\" class=\"dataframe\">\n",
       "  <thead>\n",
       "    <tr style=\"text-align: right;\">\n",
       "      <th></th>\n",
       "      <th>age</th>\n",
       "      <th>sex</th>\n",
       "      <th>cp</th>\n",
       "      <th>trestbps</th>\n",
       "      <th>chol</th>\n",
       "      <th>fbs</th>\n",
       "      <th>restecg</th>\n",
       "      <th>thalach</th>\n",
       "      <th>exang</th>\n",
       "      <th>oldpeak</th>\n",
       "      <th>slope</th>\n",
       "      <th>ca</th>\n",
       "      <th>thal</th>\n",
       "      <th>target</th>\n",
       "    </tr>\n",
       "  </thead>\n",
       "  <tbody>\n",
       "    <tr>\n",
       "      <th>0</th>\n",
       "      <td>63</td>\n",
       "      <td>1</td>\n",
       "      <td>3</td>\n",
       "      <td>145</td>\n",
       "      <td>233</td>\n",
       "      <td>1</td>\n",
       "      <td>0</td>\n",
       "      <td>150</td>\n",
       "      <td>0</td>\n",
       "      <td>2.3</td>\n",
       "      <td>0</td>\n",
       "      <td>0</td>\n",
       "      <td>1</td>\n",
       "      <td>1</td>\n",
       "    </tr>\n",
       "    <tr>\n",
       "      <th>1</th>\n",
       "      <td>37</td>\n",
       "      <td>1</td>\n",
       "      <td>2</td>\n",
       "      <td>130</td>\n",
       "      <td>250</td>\n",
       "      <td>0</td>\n",
       "      <td>1</td>\n",
       "      <td>187</td>\n",
       "      <td>0</td>\n",
       "      <td>3.5</td>\n",
       "      <td>0</td>\n",
       "      <td>0</td>\n",
       "      <td>2</td>\n",
       "      <td>1</td>\n",
       "    </tr>\n",
       "    <tr>\n",
       "      <th>2</th>\n",
       "      <td>41</td>\n",
       "      <td>0</td>\n",
       "      <td>1</td>\n",
       "      <td>130</td>\n",
       "      <td>204</td>\n",
       "      <td>0</td>\n",
       "      <td>0</td>\n",
       "      <td>172</td>\n",
       "      <td>0</td>\n",
       "      <td>1.4</td>\n",
       "      <td>2</td>\n",
       "      <td>0</td>\n",
       "      <td>2</td>\n",
       "      <td>1</td>\n",
       "    </tr>\n",
       "    <tr>\n",
       "      <th>3</th>\n",
       "      <td>56</td>\n",
       "      <td>1</td>\n",
       "      <td>1</td>\n",
       "      <td>120</td>\n",
       "      <td>236</td>\n",
       "      <td>0</td>\n",
       "      <td>1</td>\n",
       "      <td>178</td>\n",
       "      <td>0</td>\n",
       "      <td>0.8</td>\n",
       "      <td>2</td>\n",
       "      <td>0</td>\n",
       "      <td>2</td>\n",
       "      <td>1</td>\n",
       "    </tr>\n",
       "    <tr>\n",
       "      <th>4</th>\n",
       "      <td>57</td>\n",
       "      <td>0</td>\n",
       "      <td>0</td>\n",
       "      <td>120</td>\n",
       "      <td>354</td>\n",
       "      <td>0</td>\n",
       "      <td>1</td>\n",
       "      <td>163</td>\n",
       "      <td>1</td>\n",
       "      <td>0.6</td>\n",
       "      <td>2</td>\n",
       "      <td>0</td>\n",
       "      <td>2</td>\n",
       "      <td>1</td>\n",
       "    </tr>\n",
       "  </tbody>\n",
       "</table>\n",
       "</div>"
      ],
      "text/plain": [
       "   age  sex  cp  trestbps  chol  fbs  restecg  thalach  exang  oldpeak  slope  \\\n",
       "0   63    1   3       145   233    1        0      150      0      2.3      0   \n",
       "1   37    1   2       130   250    0        1      187      0      3.5      0   \n",
       "2   41    0   1       130   204    0        0      172      0      1.4      2   \n",
       "3   56    1   1       120   236    0        1      178      0      0.8      2   \n",
       "4   57    0   0       120   354    0        1      163      1      0.6      2   \n",
       "\n",
       "   ca  thal  target  \n",
       "0   0     1       1  \n",
       "1   0     2       1  \n",
       "2   0     2       1  \n",
       "3   0     2       1  \n",
       "4   0     2       1  "
      ]
     },
     "execution_count": 19,
     "metadata": {},
     "output_type": "execute_result"
    }
   ],
   "source": [
    "data.head()"
   ]
  },
  {
   "cell_type": "code",
   "execution_count": 20,
   "metadata": {},
   "outputs": [],
   "source": [
    "#Train test split\n",
    "X, y = data.drop('target', axis=1), data['target']\n",
    "X_train, X_test, y_train, y_test = train_test_split(X, y, test_size=0.2, random_state=0, stratify=y)\n",
    "#Min-Max scaling\n",
    "scaler = MinMaxScaler()\n",
    "X_train_scaled = scaler.fit_transform(X_train)\n",
    "X_test_scaled = scaler.transform(X_test)\n"
   ]
  },
  {
   "cell_type": "code",
   "execution_count": 21,
   "metadata": {},
   "outputs": [],
   "source": [
    "class LogisticBootstrap():\n",
    "    ''' \n",
    "        Class to implement bootstrap aggregation for logistic regression on binary variable.\n",
    "        The aggregation can be done by hard voting or soft voting.\n",
    "    '''\n",
    "\n",
    "    def __init__(self, n_models):\n",
    "        self.n_models = n_models\n",
    "        self.models = []\n",
    "        self.predictions = None\n",
    "\n",
    "    def fit(self, X_train, y_train):\n",
    "        '''\n",
    "            Method to fit the logistic regression models on the bootstrapped data.\n",
    "        '''\n",
    "        for i in range(self.n_models):\n",
    "            model = LogisticRegression()\n",
    "            X_train_boot, y_train_boot = resample(X_train, y_train, n_samples=int(0.3*X_train.shape[0]), random_state=i)\n",
    "            model.fit(X_train_boot, y_train_boot)\n",
    "            self.models.append(model)\n",
    "    \n",
    "    def predict_probabilities(self, X_test):\n",
    "        '''\n",
    "            Given the fitted models, this method computes the probabilities\n",
    "            of the arrays contained in X_test to be classified as 1.\n",
    "        '''\n",
    "        self.n_samples = X_test.shape[0]\n",
    "        self.predictions = np.zeros((self.n_models, self.n_samples))\n",
    "        for i, model in enumerate(self.models):\n",
    "            self.predictions[i] = model.predict_proba(X_test)[:, 1]\n",
    "\n",
    "    \n",
    "    def hard_voting(self, X_test):\n",
    "        '''\n",
    "            This method performs hard voting on the predictions of the models.\n",
    "        '''\n",
    "        self.predict_probabilities(X_test)\n",
    "        hard_votes = np.round(self.predictions).astype(int)\n",
    "        votes = np.round(np.sum(hard_votes, axis=0)/self.n_models).astype(int)\n",
    "        return votes\n",
    "    \n",
    "    def soft_voting(self, X_test):\n",
    "        '''\n",
    "            This method performs soft voting on the predictions of the models.\n",
    "        '''\n",
    "        self.predict_probabilities(X_test)\n",
    "        soft_votes = self.predictions\n",
    "        votes = np.round(np.sum(soft_votes, axis=0)/self.n_models).astype(int)\n",
    "        return votes"
   ]
  },
  {
   "cell_type": "code",
   "execution_count": 22,
   "metadata": {},
   "outputs": [],
   "source": [
    "LB = LogisticBootstrap(4)\n",
    "LB.fit(X_train_scaled, y_train)\n",
    "y_pred_h = LB.hard_voting(X_test_scaled)\n",
    "y_pred_s = LB.soft_voting(X_test_scaled)"
   ]
  },
  {
   "cell_type": "code",
   "execution_count": 23,
   "metadata": {},
   "outputs": [
    {
     "name": "stdout",
     "output_type": "stream",
     "text": [
      "Hard voting precision score:  0.84375\n",
      "Hard voting recall score:  0.8181818181818182\n",
      "Hard voting f1 score:  0.8307692307692308\n",
      "Soft voting precision score:  0.7692307692307693\n",
      "Soft voting recall score:  0.9090909090909091\n",
      "Soft voting f1 score:  0.8333333333333333\n"
     ]
    }
   ],
   "source": [
    "#Pricision, Recall and F1 score for both the methods\n",
    "print('Hard voting precision score: ', precision_score(y_test, y_pred_h))\n",
    "print('Hard voting recall score: ', recall_score(y_test, y_pred_h))\n",
    "print('Hard voting f1 score: ', f1_score(y_test, y_pred_h))\n",
    "print('Soft voting precision score: ', precision_score(y_test, y_pred_s))\n",
    "print('Soft voting recall score: ', recall_score(y_test, y_pred_s))\n",
    "print('Soft voting f1 score: ', f1_score(y_test, y_pred_s))"
   ]
  },
  {
   "cell_type": "code",
   "execution_count": 24,
   "metadata": {},
   "outputs": [
    {
     "data": {
      "image/png": "[encoded data removed]",
      "text/plain": [
       "<Figure size 640x480 with 1 Axes>"
      ]
     },
     "metadata": {},
     "output_type": "display_data"
    }
   ],
   "source": [
    "# Plot the f1 score when the number of model is varied from 1 to 100\n",
    "import matplotlib.pyplot as plt\n",
    "f1_scores_h = []\n",
    "f1_scores_s = []\n",
    "r = range(10, 500, 10)\n",
    "for i in r:\n",
    "    LB = LogisticBootstrap(i)\n",
    "    LB.fit(X_train_scaled, y_train)\n",
    "    y_pred_h = LB.hard_voting(X_test_scaled)\n",
    "    y_pred_s = LB.soft_voting(X_test_scaled)\n",
    "    f1_scores_h.append(f1_score(y_test, y_pred_h))\n",
    "    f1_scores_s.append(f1_score(y_test, y_pred_s))\n",
    "\n",
    "plt.plot(r, f1_scores_h, label='Hard voting')\n",
    "plt.plot(r, f1_scores_s, label='Soft voting')\n",
    "plt.xlabel('Number of models')\n",
    "plt.ylabel('F1 score')\n",
    "plt.legend()\n",
    "plt.show()"
   ]
  }
 ],
 "metadata": {
  "kernelspec": {
   "display_name": "env_1",
   "language": "python",
   "name": "python3"
  },
  "language_info": {
   "codemirror_mode": {
    "name": "ipython",
    "version": 3
   },
   "file_extension": ".py",
   "mimetype": "text/x-python",
   "name": "python",
   "nbconvert_exporter": "python",
   "pygments_lexer": "ipython3",
   "version": "3.12.1"
  }
 },
 "nbformat": 4,
 "nbformat_minor": 2
}
