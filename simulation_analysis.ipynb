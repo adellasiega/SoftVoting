{
 "cells": [
  {
   "cell_type": "code",
   "execution_count": 150,
   "metadata": {},
   "outputs": [],
   "source": [
    "import pandas as pd\n",
    "import numpy as np\n",
    "import matplotlib.pyplot as plt\n",
    "import seaborn as sns\n",
    "import os\n",
    "from tqdm import tqdm"
   ]
  },
  {
   "cell_type": "code",
   "execution_count": 170,
   "metadata": {},
   "outputs": [],
   "source": [
    "simulation_files = os.listdir('simulations')\n",
    "soft_val_files = [f for f in simulation_files if ('soft' in str(f).lower() and 'val' in str(f).lower())]\n",
    "soft_test_files = [f for f in simulation_files if 'soft' in str(f).lower() and 'test' in str(f).lower()]\n",
    "hard_val_files = [f for f in simulation_files if 'hard' in str(f).lower() and 'val' in str(f).lower()]\n",
    "hard_test_files = [f for f in simulation_files if 'hard' in str(f).lower() and 'test' in str(f).lower()]"
   ]
  },
  {
   "cell_type": "code",
   "execution_count": 171,
   "metadata": {},
   "outputs": [],
   "source": [
    "# Dataframe with \"SEED\" column\n",
    "soft_val = []\n",
    "soft_test = []\n",
    "hard_val = []\n",
    "hard_test = []\n",
    "\n",
    "\n",
    "for f in soft_val_files:\n",
    "    df = pd.read_csv('simulations/' + f)\n",
    "    df['SEED'] = f.split('_')[1]\n",
    "    soft_val.append(df)\n",
    "\n",
    "for f in soft_test_files:\n",
    "    df = pd.read_csv('simulations/' + f)\n",
    "    df['SEED'] = f.split('_')[1]\n",
    "    soft_test.append(df)\n",
    "\n",
    "for f in hard_val_files:\n",
    "    df = pd.read_csv('simulations/' + f)\n",
    "    df['SEED'] = f.split('_')[1]\n",
    "    hard_val.append(df)\n",
    "\n",
    "for f in hard_test_files:\n",
    "    df = pd.read_csv('simulations/' + f)\n",
    "    df['SEED'] = f.split('_')[1]\n",
    "    hard_test.append(df)"
   ]
  },
  {
   "cell_type": "code",
   "execution_count": 172,
   "metadata": {},
   "outputs": [],
   "source": [
    "# Merge all dataframes\n",
    "soft_val = pd.concat(soft_val)\n",
    "soft_test = pd.concat(soft_test)\n",
    "hard_val = pd.concat(hard_val)\n",
    "hard_test = pd.concat(hard_test)"
   ]
  },
  {
   "cell_type": "markdown",
   "metadata": {},
   "source": [
    "## Metrics"
   ]
  },
  {
   "cell_type": "code",
   "execution_count": 6,
   "metadata": {},
   "outputs": [],
   "source": [
    "from sklearn.metrics import accuracy_score, precision_score, recall_score, f1_score, balanced_accuracy_score, roc_auc_score"
   ]
  },
  {
   "cell_type": "code",
   "execution_count": 175,
   "metadata": {},
   "outputs": [],
   "source": [
    "metrics_soft_val = pd.DataFrame(columns=['SEED', 'ACCURACY', 'PRECISION', 'RECALL', 'F1', 'BALANCED_ACCURACY', 'ROC_AUC'])\n",
    "metrics_soft_test = pd.DataFrame(columns=['SEED', 'ACCURACY', 'PRECISION', 'RECALL', 'F1', 'BALANCED_ACCURACY', 'ROC_AUC'])\n",
    "metrics_hard_val = pd.DataFrame(columns=['SEED', 'ACCURACY', 'PRECISION', 'RECALL', 'F1', 'BALANCED_ACCURACY', 'ROC_AUC'])\n",
    "metrics_hard_test = pd.DataFrame(columns=['SEED', 'ACCURACY', 'PRECISION', 'RECALL', 'F1', 'BALANCED_ACCURACY', 'ROC_AUC'])"
   ]
  },
  {
   "cell_type": "code",
   "execution_count": 180,
   "metadata": {},
   "outputs": [
    {
     "data": {
      "text/html": [
       "<div>\n",
       "<style scoped>\n",
       "    .dataframe tbody tr th:only-of-type {\n",
       "        vertical-align: middle;\n",
       "    }\n",
       "\n",
       "    .dataframe tbody tr th {\n",
       "        vertical-align: top;\n",
       "    }\n",
       "\n",
       "    .dataframe thead th {\n",
       "        text-align: right;\n",
       "    }\n",
       "</style>\n",
       "<table border=\"1\" class=\"dataframe\">\n",
       "  <thead>\n",
       "    <tr style=\"text-align: right;\">\n",
       "      <th></th>\n",
       "      <th>Prediction</th>\n",
       "      <th>True</th>\n",
       "      <th>SEED</th>\n",
       "    </tr>\n",
       "  </thead>\n",
       "  <tbody>\n",
       "    <tr>\n",
       "      <th>0</th>\n",
       "      <td>0.048314</td>\n",
       "      <td>0.0</td>\n",
       "      <td>0</td>\n",
       "    </tr>\n",
       "    <tr>\n",
       "      <th>1</th>\n",
       "      <td>0.329459</td>\n",
       "      <td>1.0</td>\n",
       "      <td>0</td>\n",
       "    </tr>\n",
       "    <tr>\n",
       "      <th>2</th>\n",
       "      <td>0.167161</td>\n",
       "      <td>0.0</td>\n",
       "      <td>0</td>\n",
       "    </tr>\n",
       "    <tr>\n",
       "      <th>3</th>\n",
       "      <td>0.327692</td>\n",
       "      <td>0.0</td>\n",
       "      <td>0</td>\n",
       "    </tr>\n",
       "    <tr>\n",
       "      <th>4</th>\n",
       "      <td>0.205210</td>\n",
       "      <td>1.0</td>\n",
       "      <td>0</td>\n",
       "    </tr>\n",
       "    <tr>\n",
       "      <th>...</th>\n",
       "      <td>...</td>\n",
       "      <td>...</td>\n",
       "      <td>...</td>\n",
       "    </tr>\n",
       "    <tr>\n",
       "      <th>1638</th>\n",
       "      <td>0.080457</td>\n",
       "      <td>0.0</td>\n",
       "      <td>999</td>\n",
       "    </tr>\n",
       "    <tr>\n",
       "      <th>1639</th>\n",
       "      <td>0.321737</td>\n",
       "      <td>0.0</td>\n",
       "      <td>999</td>\n",
       "    </tr>\n",
       "    <tr>\n",
       "      <th>1640</th>\n",
       "      <td>0.695601</td>\n",
       "      <td>1.0</td>\n",
       "      <td>999</td>\n",
       "    </tr>\n",
       "    <tr>\n",
       "      <th>1641</th>\n",
       "      <td>0.172386</td>\n",
       "      <td>0.0</td>\n",
       "      <td>999</td>\n",
       "    </tr>\n",
       "    <tr>\n",
       "      <th>1642</th>\n",
       "      <td>0.183587</td>\n",
       "      <td>0.0</td>\n",
       "      <td>999</td>\n",
       "    </tr>\n",
       "  </tbody>\n",
       "</table>\n",
       "<p>1643000 rows × 3 columns</p>\n",
       "</div>"
      ],
      "text/plain": [
       "      Prediction  True SEED\n",
       "0       0.048314   0.0    0\n",
       "1       0.329459   1.0    0\n",
       "2       0.167161   0.0    0\n",
       "3       0.327692   0.0    0\n",
       "4       0.205210   1.0    0\n",
       "...          ...   ...  ...\n",
       "1638    0.080457   0.0  999\n",
       "1639    0.321737   0.0  999\n",
       "1640    0.695601   1.0  999\n",
       "1641    0.172386   0.0  999\n",
       "1642    0.183587   0.0  999\n",
       "\n",
       "[1643000 rows x 3 columns]"
      ]
     },
     "execution_count": 180,
     "metadata": {},
     "output_type": "execute_result"
    }
   ],
   "source": [
    "soft_val"
   ]
  },
  {
   "cell_type": "code",
   "execution_count": 185,
   "metadata": {},
   "outputs": [],
   "source": [
    "soft_val[\"Prediction\"] = soft_val[\"Prediction\"].apply(lambda x: 1 if x > 0.5 else 0)\n",
    "soft_test[\"Prediction\"] = soft_test[\"Prediction\"].apply(lambda x: 1 if x > 0.5 else 0)"
   ]
  },
  {
   "cell_type": "code",
   "execution_count": 186,
   "metadata": {},
   "outputs": [
    {
     "name": "stderr",
     "output_type": "stream",
     "text": [
      "  0%|          | 0/1000 [00:00<?, ?it/s]C:\\Users\\gabri\\AppData\\Local\\Temp\\ipykernel_12932\\1256907571.py:4: FutureWarning: The behavior of DataFrame concatenation with empty or all-NA entries is deprecated. In a future version, this will no longer exclude empty or all-NA columns when determining the result dtypes. To retain the old behavior, exclude the relevant entries before the concat operation.\n",
      "  metrics_soft_val = pd.concat([metrics_soft_val, pd.DataFrame({\n",
      "100%|██████████| 1000/1000 [03:02<00:00,  5.47it/s]\n"
     ]
    }
   ],
   "source": [
    "for seed in tqdm(soft_val['SEED'].unique()):\n",
    "    y_true = soft_val[soft_val['SEED'] == seed]['True']\n",
    "    y_pred = soft_val[soft_val['SEED'] == seed]['Prediction']\n",
    "    metrics_soft_val = pd.concat([metrics_soft_val, pd.DataFrame({\n",
    "        'SEED': seed,\n",
    "        'ACCURACY': accuracy_score(y_true, y_pred),\n",
    "        'PRECISION': precision_score(y_true, y_pred),\n",
    "        'RECALL': recall_score(y_true, y_pred),\n",
    "        'F1': f1_score(y_true, y_pred),\n",
    "        'BALANCED_ACCURACY': balanced_accuracy_score(y_true, y_pred),\n",
    "        'ROC_AUC': roc_auc_score(y_true, y_pred)\n",
    "    }, index=[0])])"
   ]
  },
  {
   "cell_type": "code",
   "execution_count": null,
   "metadata": {},
   "outputs": [],
   "source": [
    "for seed in tqdm(soft_test['SEED'].unique()):\n",
    "    y_true = soft_test[soft_test['SEED'] == seed]['True']\n",
    "    y_pred = soft_test[soft_test['SEED'] == seed]['Prediction']\n",
    "    metrics_soft_test = pd.concat([metrics_soft_test, pd.DataFrame({\n",
    "        'SEED': seed,\n",
    "        'ACCURACY': accuracy_score(y_true, y_pred),\n",
    "        'PRECISION': precision_score(y_true, y_pred),\n",
    "        'RECALL': recall_score(y_true, y_pred),\n",
    "        'F1': f1_score(y_true, y_pred),\n",
    "        'BALANCED_ACCURACY': balanced_accuracy_score(y_true, y_pred),\n",
    "        'ROC_AUC': roc_auc_score(y_true, y_pred)\n",
    "    }, index=[0])])\n",
    "\n",
    "for seed in tqdm(hard_val['SEED'].unique()):\n",
    "    y_true = hard_val[hard_val['SEED'] == seed]['True']\n",
    "    y_pred = hard_val[hard_val['SEED'] == seed]['Prediction']\n",
    "    metrics_hard_val = pd.concat([metrics_hard_val, pd.DataFrame({\n",
    "        'SEED': seed,\n",
    "        'ACCURACY': accuracy_score(y_true, y_pred),\n",
    "        'PRECISION': precision_score(y_true, y_pred),\n",
    "        'RECALL': recall_score(y_true, y_pred),\n",
    "        'F1': f1_score(y_true, y_pred),\n",
    "        'BALANCED_ACCURACY': balanced_accuracy_score(y_true, y_pred),\n",
    "        'ROC_AUC': roc_auc_score(y_true, y_pred)\n",
    "    }, index=[0])])\n",
    "\n",
    "for seed in tqdm(hard_test['SEED'].unique()):\n",
    "    y_true = hard_test[hard_test['SEED'] == seed]['True']\n",
    "    y_pred = hard_test[hard_test['SEED'] == seed]['Prediction']\n",
    "    metrics_hard_test = pd.concat([metrics_hard_test, pd.DataFrame({\n",
    "        'SEED': seed,\n",
    "        'ACCURACY': accuracy_score(y_true, y_pred),\n",
    "        'PRECISION': precision_score(y_true, y_pred),\n",
    "        'RECALL': recall_score(y_true, y_pred),\n",
    "        'F1': f1_score(y_true, y_pred),\n",
    "        'BALANCED_ACCURACY': balanced_accuracy_score(y_true, y_pred),\n",
    "        'ROC_AUC': roc_auc_score(y_true, y_pred)\n",
    "    }, index=[0])])"
   ]
  },
  {
   "cell_type": "code",
   "execution_count": 91,
   "metadata": {},
   "outputs": [],
   "source": [
    "# Shuffle dataframes\n",
    "metrics_hard = metrics_hard.sample(frac=1).reset_index(drop=True)\n",
    "metrics_soft = metrics_soft.sample(frac=1).reset_index(drop=True)"
   ]
  },
  {
   "cell_type": "code",
   "execution_count": 142,
   "metadata": {},
   "outputs": [
    {
     "name": "stderr",
     "output_type": "stream",
     "text": [
      "100%|██████████| 100000/100000 [01:08<00:00, 1453.74it/s]\n"
     ]
    }
   ],
   "source": [
    "accs_soft = []\n",
    "accs_hard = []\n",
    "\n",
    "for i in tqdm(range(10000)):\n",
    "    metrics_hard = metrics_hard.sample(frac=1).reset_index(drop=True)\n",
    "    metrics_soft = metrics_soft.sample(frac=1).reset_index(drop=True)   \n",
    "    acc_soft = metrics_soft[\"ACCURACY\"].expanding().mean()\n",
    "    acc_hard = metrics_hard[\"ACCURACY\"].expanding().mean()\n",
    "    accs_soft.append(acc_soft)\n",
    "    accs_hard.append(acc_hard)\n",
    "\n",
    "accs_soft = np.array(accs_soft)\n",
    "accs_hard = np.array(accs_hard)"
   ]
  },
  {
   "cell_type": "code",
   "execution_count": 143,
   "metadata": {},
   "outputs": [],
   "source": [
    "# mean over the 100 runs \n",
    "accs_soft = accs_soft.mean(axis=0)\n",
    "accs_hard = accs_hard.mean(axis=0)"
   ]
  },
  {
   "cell_type": "code",
   "execution_count": 149,
   "metadata": {},
   "outputs": [
    {
     "data": {
      "image/png": "[encoded data removed]",
      "text/plain": [
       "<Figure size 640x480 with 1 Axes>"
      ]
     },
     "metadata": {},
     "output_type": "display_data"
    }
   ],
   "source": [
    "plt.plot(acc_soft.rolling(10).mean(), label='Soft')\n",
    "plt.plot(acc_hard.rolling(10).mean(), label='Hard')\n",
    "plt.title('Accuracy')\n",
    "plt.xlabel('N of simulations')\n",
    "plt.ylabel('Accuracy')\n",
    "plt.legend()\n",
    "plt.show()"
   ]
  }
 ],
 "metadata": {
  "kernelspec": {
   "display_name": "Python 3",
   "language": "python",
   "name": "python3"
  },
  "language_info": {
   "codemirror_mode": {
    "name": "ipython",
    "version": 3
   },
   "file_extension": ".py",
   "mimetype": "text/x-python",
   "name": "python",
   "nbconvert_exporter": "python",
   "pygments_lexer": "ipython3",
   "version": "3.11.5"
  }
 },
 "nbformat": 4,
 "nbformat_minor": 2
}
